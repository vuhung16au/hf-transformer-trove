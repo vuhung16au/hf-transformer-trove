{
  "cells": [
    {
      "cell_type": "markdown",
      "metadata": {
        "id": "iBnlc9V9KkCJ"
      },
      "source": [
        "[![Open In Colab](https://colab.research.google.com/assets/colab-badge.svg)](https://colab.research.google.com/github/vuhung16au/hf-transformer-trove/blob/main/examples/basic1.2/01-sentiment-analysis.ipynb)\n",
        "[![View on GitHub](https://img.shields.io/badge/View_on-GitHub-blue?logo=github)](https://github.com/vuhung16au/hf-transformer-trove/blob/main/examples/basic1.2/01-sentiment-analysis.ipynb)\n",
        "\n",
        "# Basic Sentiment Analysis with Hugging Face Transformers\n",
        "\n",
        "## 🎯 Learning Objectives\n",
        "By the end of this notebook, you will understand:\n",
        "- What sentiment analysis is and why it's important\n",
        "- How to use Hugging Face transformers pipeline for sentiment analysis\n",
        "- The structure of sentiment analysis outputs\n",
        "- Basic text preprocessing considerations\n",
        "- How transformers perform sentiment classification\n",
        "\n",
        "## 📋 Prerequisites\n",
        "- Basic understanding of machine learning concepts\n",
        "- Familiarity with Python programming\n",
        "- Basic knowledge of Natural Language Processing (NLP) concepts\n",
        "\n",
        "## 📚 What We'll Cover\n",
        "1. **Introduction**: What is sentiment analysis?\n",
        "2. **Setup**: Installing and importing required libraries\n",
        "3. **Core Implementation**: Using transformers pipeline\n",
        "4. **Understanding Output**: Interpreting results and confidence scores\n",
        "5. **Advanced Examples**: Testing different text inputs\n",
        "6. **Summary**: Key takeaways and next steps"
      ]
    },
    {
      "cell_type": "markdown",
      "metadata": {
        "id": "VwgOqnR1KkCM"
      },
      "source": [
        "## 1. Introduction to Sentiment Analysis\n",
        "\n",
        "**Sentiment Analysis** is a fundamental Natural Language Processing task that determines the emotional tone or attitude expressed in text. It's widely used in:\n",
        "\n",
        "- **Social Media Monitoring**: Understanding public opinion about brands or products\n",
        "- **Customer Feedback**: Analyzing reviews and support tickets\n",
        "- **Market Research**: Gauging consumer sentiment\n",
        "- **Content Moderation**: Identifying negative or harmful content\n",
        "\n",
        "### How Does It Work?\n",
        "\n",
        "Modern sentiment analysis uses transformer models that:\n",
        "1. **Tokenize** the input text into smaller pieces\n",
        "2. **Encode** these tokens into numerical representations\n",
        "3. **Process** the sequence using attention mechanisms\n",
        "4. **Classify** the overall sentiment with a confidence score\n",
        "\n",
        "### Common Sentiment Categories\n",
        "- **POSITIVE**: Expresses happiness, satisfaction, or approval\n",
        "- **NEGATIVE**: Expresses sadness, dissatisfaction, or disapproval\n",
        "- **NEUTRAL**: Expresses neither positive nor negative sentiment"
      ]
    },
    {
      "cell_type": "markdown",
      "metadata": {
        "id": "gIE8yH30KkCM"
      },
      "source": [
        "## 2. Setup and Installation\n",
        "\n",
        "Let's start by importing the necessary libraries and setting up our environment."
      ]
    },
    {
      "cell_type": "code",
      "execution_count": 1,
      "metadata": {
        "id": "j8BJIqxCKkCM",
        "outputId": "659f972a-2cb0-44e5-f322-7c89d6391546",
        "colab": {
          "base_uri": "https://localhost:8080/"
        }
      },
      "outputs": [
        {
          "output_type": "stream",
          "name": "stdout",
          "text": [
            "💻 Using CPU (consider GPU for better performance)\n",
            "\n",
            "📚 Setup completed successfully!\n",
            "PyTorch version: 2.8.0+cu126\n",
            "Device: cpu\n"
          ]
        }
      ],
      "source": [
        "# Install required packages (uncomment if running for the first time)\n",
        "# !pip install transformers torch datasets\n",
        "\n",
        "# Import essential libraries\n",
        "import torch\n",
        "from transformers import pipeline\n",
        "import warnings\n",
        "\n",
        "# Suppress warnings for cleaner output\n",
        "warnings.filterwarnings('ignore')\n",
        "\n",
        "# Device detection for optimal performance\n",
        "def get_device() -> torch.device:\n",
        "    \"\"\"\n",
        "    Automatically detect and return the best available device.\n",
        "\n",
        "    Priority: CUDA > MPS (Apple Silicon) > CPU\n",
        "\n",
        "    Returns:\n",
        "        torch.device: The optimal device for current hardware\n",
        "    \"\"\"\n",
        "    if torch.cuda.is_available():\n",
        "        device = torch.device(\"cuda\")\n",
        "        print(f\"🚀 Using CUDA GPU: {torch.cuda.get_device_name()}\")\n",
        "    elif torch.backends.mps.is_available():\n",
        "        device = torch.device(\"mps\")\n",
        "        print(\"🍎 Using Apple MPS (Apple Silicon)\")\n",
        "    else:\n",
        "        device = torch.device(\"cpu\")\n",
        "        print(\"💻 Using CPU (consider GPU for better performance)\")\n",
        "\n",
        "    return device\n",
        "\n",
        "# Detect the best available device\n",
        "device = get_device()\n",
        "\n",
        "print(\"\\n📚 Setup completed successfully!\")\n",
        "print(f\"PyTorch version: {torch.__version__}\")\n",
        "print(f\"Device: {device}\")"
      ]
    },
    {
      "cell_type": "markdown",
      "metadata": {
        "id": "_RtGVRDnKkCN"
      },
      "source": [
        "## 3. Core Implementation: Using Transformers Pipeline\n",
        "\n",
        "The Hugging Face `pipeline` function provides the easiest way to perform sentiment analysis. It handles:\n",
        "- Model loading and configuration\n",
        "- Text preprocessing and tokenization\n",
        "- Model inference and postprocessing\n",
        "- Result formatting"
      ]
    },
    {
      "cell_type": "code",
      "execution_count": 2,
      "metadata": {
        "id": "BTTTRbLCKkCN",
        "outputId": "9a7171ca-9fcc-49b8-f624-d56fe4b05846",
        "colab": {
          "base_uri": "https://localhost:8080/",
          "height": 286,
          "referenced_widgets": [
            "793a0b480088440f851ef9405a1b9820",
            "b555f7fc02714b45b60c8d54cf7b7a3c",
            "406f2de35fbe45099aa9a0e12345adb2",
            "0d704a116f51418fbeb2feefad213b0e",
            "8420797f9fc54b44b4669ea7c7bf3f1e",
            "cdd368d8583b4d6b9a97bbe9d81e0c76",
            "bd8e2851b33545cba5d8ab8d31c13621",
            "159669cf53a344489098eeb5b20eb019",
            "40d4cc8e55c74ccb9b98d17e6ca4d763",
            "cd78d0bb2eae4b63b165010db8caacf7",
            "80db60edcf8449738d638dcaee7a0ac2",
            "279c118eb18747378b0c9675f85ac3ca",
            "0be02b9928fe47a4a54a20cdd77f18a8",
            "a5a6a9c60c794b2ca4fb632e4cd70023",
            "092626a9777e4addb57d94bdefc4ff2d",
            "d574905b01de409aa2fec168e0d3c2d7",
            "38556794d8534c42ada56763a70c7570",
            "0fe606a15304452b8cdc53c369eb08b0",
            "a9bb4c78ebc44bab81c67c254c4b3e8a",
            "0529f8296dc04c53adf7bc18232bb6bb",
            "a822cdcacfa14a78aa64f69563d9c973",
            "a63d971e58a34500969bf89ad7e139d3",
            "0d1df8aa885d4209989125e7a3887a3b",
            "17065e337df14fa39e50529fd8d57c45",
            "0ddac43b43da450c9be6ae659a1965ce",
            "89ce31352d194fd4b2d95e5c7f5c69bc",
            "4e02f8b823bf4c79ae3c703bca1f327d",
            "8586efae80eb4297886f953280aa2e61",
            "1241ec10582244e6975054b750e1a9ef",
            "ba288e84160e45ffa3cb1153fca696d5",
            "cc5cf370ba914db59117d855e0f473b2",
            "27b8553b61a44628b82327eeae95a40d",
            "1bf85beb535744eb8b03d27cfd84ced2",
            "487f7abeecdc4edebe59e4aec41b49fb",
            "c662229cba0d4deea530cf238aea9093",
            "4b2349c05368461296cba55aec49497c",
            "85d479ba38574964ae0af86adfed459e",
            "38053531c31b4f529851aaaed822cd3a",
            "71de0b450c47420bbe7794b11231c5a1",
            "d7a583e42c474d4f94cb5b3f3721cb28",
            "f09178be0a53445d812249f62b43bc70",
            "37778495c302436ea97d0eb22a05ef97",
            "7ee828155cc8418eafa8ba845be57301",
            "7cde927a47494dc1a73fd1d4a90e9db7"
          ]
        }
      },
      "outputs": [
        {
          "output_type": "stream",
          "name": "stderr",
          "text": [
            "No model was supplied, defaulted to distilbert/distilbert-base-uncased-finetuned-sst-2-english and revision 714eb0f (https://huggingface.co/distilbert/distilbert-base-uncased-finetuned-sst-2-english).\n",
            "Using a pipeline without specifying a model name and revision in production is not recommended.\n"
          ]
        },
        {
          "output_type": "stream",
          "name": "stdout",
          "text": [
            "🔄 Loading sentiment analysis model...\n"
          ]
        },
        {
          "output_type": "display_data",
          "data": {
            "text/plain": [
              "config.json:   0%|          | 0.00/629 [00:00<?, ?B/s]"
            ],
            "application/vnd.jupyter.widget-view+json": {
              "version_major": 2,
              "version_minor": 0,
              "model_id": "793a0b480088440f851ef9405a1b9820"
            }
          },
          "metadata": {}
        },
        {
          "output_type": "display_data",
          "data": {
            "text/plain": [
              "model.safetensors:   0%|          | 0.00/268M [00:00<?, ?B/s]"
            ],
            "application/vnd.jupyter.widget-view+json": {
              "version_major": 2,
              "version_minor": 0,
              "model_id": "279c118eb18747378b0c9675f85ac3ca"
            }
          },
          "metadata": {}
        },
        {
          "output_type": "display_data",
          "data": {
            "text/plain": [
              "tokenizer_config.json:   0%|          | 0.00/48.0 [00:00<?, ?B/s]"
            ],
            "application/vnd.jupyter.widget-view+json": {
              "version_major": 2,
              "version_minor": 0,
              "model_id": "0d1df8aa885d4209989125e7a3887a3b"
            }
          },
          "metadata": {}
        },
        {
          "output_type": "display_data",
          "data": {
            "text/plain": [
              "vocab.txt: 0.00B [00:00, ?B/s]"
            ],
            "application/vnd.jupyter.widget-view+json": {
              "version_major": 2,
              "version_minor": 0,
              "model_id": "487f7abeecdc4edebe59e4aec41b49fb"
            }
          },
          "metadata": {}
        },
        {
          "output_type": "stream",
          "name": "stderr",
          "text": [
            "Device set to use cpu\n"
          ]
        },
        {
          "output_type": "stream",
          "name": "stdout",
          "text": [
            "✅ Model loaded successfully!\n",
            "📊 Model: distilbert/distilbert-base-uncased-finetuned-sst-2-english\n",
            "🎯 Task: sentiment-analysis\n"
          ]
        }
      ],
      "source": [
        "# Create a sentiment analysis pipeline\n",
        "# This uses a default model: distilbert-base-uncased-finetuned-sst-2-english\n",
        "print(\"🔄 Loading sentiment analysis model...\")\n",
        "\n",
        "classifier = pipeline(\"sentiment-analysis\")\n",
        "\n",
        "print(\"✅ Model loaded successfully!\")\n",
        "print(f\"📊 Model: {classifier.model.config.name_or_path}\")\n",
        "print(f\"🎯 Task: {classifier.task}\")"
      ]
    },
    {
      "cell_type": "markdown",
      "metadata": {
        "id": "OJ1HKbB3KkCN"
      },
      "source": [
        "## 4. Testing the Required Example\n",
        "\n",
        "Let's test our sentiment analysis pipeline with the specific example from the requirements:"
      ]
    },
    {
      "cell_type": "code",
      "execution_count": 3,
      "metadata": {
        "id": "F4XhrMm6KkCN",
        "outputId": "00df88a8-4f02-493c-8a82-ca413fef8e4d",
        "colab": {
          "base_uri": "https://localhost:8080/"
        }
      },
      "outputs": [
        {
          "output_type": "stream",
          "name": "stdout",
          "text": [
            "📝 Input text: 'Sydney is a great place to live. Perfect weather. However, think about the living cost.'\n",
            "\n",
            "🔍 Performing sentiment analysis...\n",
            "\n",
            "📊 Result: [{'label': 'POSITIVE', 'score': 0.9993889331817627}]\n",
            "\n",
            "✨ Analysis:\n",
            "   Sentiment: POSITIVE\n",
            "   Confidence: 0.9994 (99.9%)\n",
            "   Interpretation: The model is 99.9% confident this text expresses positive sentiment.\n"
          ]
        }
      ],
      "source": [
        "# Test with the required example\n",
        "test_text = \"Sydney is a great place to live. Perfect weather. However, think about the living cost.\"\n",
        "\n",
        "print(f\"📝 Input text: '{test_text}'\")\n",
        "print(\"\\n🔍 Performing sentiment analysis...\")\n",
        "\n",
        "# Get the sentiment prediction\n",
        "result = classifier(test_text)\n",
        "\n",
        "print(f\"\\n📊 Result: {result}\")\n",
        "\n",
        "# Extract and display details\n",
        "sentiment = result[0]\n",
        "label = sentiment['label']\n",
        "score = sentiment['score']\n",
        "\n",
        "print(f\"\\n✨ Analysis:\")\n",
        "print(f\"   Sentiment: {label}\")\n",
        "print(f\"   Confidence: {score:.4f} ({score*100:.1f}%)\")\n",
        "print(f\"   Interpretation: The model is {score*100:.1f}% confident this text expresses {label.lower()} sentiment.\")"
      ]
    },
    {
      "cell_type": "markdown",
      "metadata": {
        "id": "vCRiTDmlKkCO"
      },
      "source": [
        "## 5. Understanding the Output Structure\n",
        "\n",
        "Let's break down what the sentiment analysis pipeline returns:"
      ]
    },
    {
      "cell_type": "code",
      "execution_count": 4,
      "metadata": {
        "id": "2tQA9zYOKkCO",
        "outputId": "38a07339-f4d5-46fc-c458-de281241d752",
        "colab": {
          "base_uri": "https://localhost:8080/"
        }
      },
      "outputs": [
        {
          "output_type": "stream",
          "name": "stdout",
          "text": [
            "🔍 Understanding the output structure:\n",
            "   Type: <class 'list'>\n",
            "   Length: 1\n",
            "   First item type: <class 'dict'>\n",
            "   Keys: dict_keys(['label', 'score'])\n",
            "\n",
            "📋 Output Format Explanation:\n",
            "   • Returns a list containing one dictionary per input text\n",
            "   • Each dictionary has two keys:\n",
            "     - 'label': The predicted sentiment class (POSITIVE/NEGATIVE)\n",
            "     - 'score': The confidence score (0.0 to 1.0)\n",
            "   • Higher scores indicate higher confidence in the prediction\n"
          ]
        }
      ],
      "source": [
        "# Analyze the output structure\n",
        "print(\"🔍 Understanding the output structure:\")\n",
        "print(f\"   Type: {type(result)}\")\n",
        "print(f\"   Length: {len(result)}\")\n",
        "print(f\"   First item type: {type(result[0])}\")\n",
        "print(f\"   Keys: {result[0].keys()}\")\n",
        "\n",
        "print(\"\\n📋 Output Format Explanation:\")\n",
        "print(\"   • Returns a list containing one dictionary per input text\")\n",
        "print(\"   • Each dictionary has two keys:\")\n",
        "print(\"     - 'label': The predicted sentiment class (POSITIVE/NEGATIVE)\")\n",
        "print(\"     - 'score': The confidence score (0.0 to 1.0)\")\n",
        "print(\"   • Higher scores indicate higher confidence in the prediction\")"
      ]
    },
    {
      "cell_type": "markdown",
      "metadata": {
        "id": "I42yIVMyKkCO"
      },
      "source": [
        "## 6. Advanced Examples: Testing Different Text Types\n",
        "\n",
        "Let's explore how the model handles various types of text to better understand its capabilities:"
      ]
    },
    {
      "cell_type": "code",
      "execution_count": 5,
      "metadata": {
        "id": "J8jt5g6VKkCO",
        "outputId": "855307ff-b47f-44b7-e7d0-773d0b61e352",
        "colab": {
          "base_uri": "https://localhost:8080/"
        }
      },
      "outputs": [
        {
          "output_type": "stream",
          "name": "stdout",
          "text": [
            "🧪 Testing multiple examples:\n",
            "============================================================\n",
            "\n",
            "1. Text: 'This movie is absolutely amazing! I loved every minute of it.'\n",
            "   Result: POSITIVE 😊 (confidence: 1.000)\n",
            "\n",
            "2. Text: 'The service at this Sydney harbour restaurant was terrible and the food was cold.'\n",
            "   Result: NEGATIVE 😞 (confidence: 1.000)\n",
            "\n",
            "3. Text: 'The weather today is okay, nothing special.'\n",
            "   Result: NEGATIVE 😞 (confidence: 0.995)\n",
            "\n",
            "4. Text: 'I can't believe how wonderful this product is!'\n",
            "   Result: POSITIVE 😊 (confidence: 1.000)\n",
            "\n",
            "5. Text: 'This is the worst experience I've ever had.'\n",
            "   Result: NEGATIVE 😞 (confidence: 1.000)\n",
            "\n",
            "6. Text: 'The meeting is scheduled for 3 PM tomorrow.'\n",
            "   Result: POSITIVE 😊 (confidence: 0.982)\n"
          ]
        }
      ],
      "source": [
        "# Test with various text examples\n",
        "test_examples = [\n",
        "    \"This movie is absolutely amazing! I loved every minute of it.\",\n",
        "    \"The service at this Sydney harbour restaurant was terrible and the food was cold.\",\n",
        "    \"The weather today is okay, nothing special.\",\n",
        "    \"I can't believe how wonderful this product is!\",\n",
        "    \"This is the worst experience I've ever had.\",\n",
        "    \"The meeting is scheduled for 3 PM tomorrow.\",\n",
        "]\n",
        "\n",
        "print(\"🧪 Testing multiple examples:\")\n",
        "print(\"=\" * 60)\n",
        "\n",
        "for i, text in enumerate(test_examples, 1):\n",
        "    result = classifier(text)\n",
        "    sentiment = result[0]\n",
        "\n",
        "    # Use emoji for visual representation\n",
        "    emoji = \"😊\" if sentiment['label'] == 'POSITIVE' else \"😞\"\n",
        "\n",
        "    print(f\"\\n{i}. Text: '{text}'\")\n",
        "    print(f\"   Result: {sentiment['label']} {emoji} (confidence: {sentiment['score']:.3f})\")"
      ]
    },
    {
      "cell_type": "markdown",
      "metadata": {
        "id": "CyF6b7q7KkCO"
      },
      "source": [
        "## 7. Batch Processing\n",
        "\n",
        "The pipeline can also process multiple texts at once, which is more efficient:"
      ]
    },
    {
      "cell_type": "code",
      "execution_count": 6,
      "metadata": {
        "id": "ZsysDnF5KkCO",
        "outputId": "14897ea3-0ee9-4a15-ed31-99968a2553d0",
        "colab": {
          "base_uri": "https://localhost:8080/"
        }
      },
      "outputs": [
        {
          "output_type": "stream",
          "name": "stdout",
          "text": [
            "🚀 Batch processing example:\n",
            "Input texts: ['I love this new feature!', 'This is disappointing.', 'Not sure how I feel about this.']\n",
            "\n",
            "Results:\n",
            "  'I love this new feature!' → POSITIVE 😊 (1.000)\n",
            "  'This is disappointing.' → NEGATIVE 😞 (1.000)\n",
            "  'Not sure how I feel about this.' → NEGATIVE 😞 (0.999)\n"
          ]
        }
      ],
      "source": [
        "# Batch processing example\n",
        "batch_texts = [\n",
        "    \"I love this new feature!\",\n",
        "    \"This is disappointing.\",\n",
        "    \"Not sure how I feel about this.\"\n",
        "]\n",
        "\n",
        "print(\"🚀 Batch processing example:\")\n",
        "print(\"Input texts:\", batch_texts)\n",
        "\n",
        "# Process all texts at once\n",
        "batch_results = classifier(batch_texts)\n",
        "\n",
        "print(\"\\nResults:\")\n",
        "for text, result in zip(batch_texts, batch_results):\n",
        "    emoji = \"😊\" if result['label'] == 'POSITIVE' else \"😞\"\n",
        "    print(f\"  '{text}' → {result['label']} {emoji} ({result['score']:.3f})\")"
      ]
    },
    {
      "cell_type": "markdown",
      "metadata": {
        "id": "6lpsqo_zKkCO"
      },
      "source": [
        "## 8. Model Information and Technical Details\n",
        "\n",
        "Let's explore some technical details about the model being used:"
      ]
    },
    {
      "cell_type": "code",
      "execution_count": 7,
      "metadata": {
        "id": "0x67ajdhKkCO",
        "outputId": "e07e2389-eda6-4190-f337-f4228908dd05",
        "colab": {
          "base_uri": "https://localhost:8080/"
        }
      },
      "outputs": [
        {
          "output_type": "stream",
          "name": "stdout",
          "text": [
            "🔧 Model Technical Details:\n",
            "   Model Name: distilbert/distilbert-base-uncased-finetuned-sst-2-english\n",
            "   Model Type: distilbert\n",
            "   Number of Labels: 2\n",
            "   Label Mapping: {0: 'NEGATIVE', 1: 'POSITIVE'}\n",
            "\n",
            "📊 Model Size:\n",
            "   Total Parameters: 66,955,010\n",
            "   Trainable Parameters: 66,955,010\n",
            "   Model Size: ~67.0M parameters\n"
          ]
        }
      ],
      "source": [
        "# Explore model details\n",
        "print(\"🔧 Model Technical Details:\")\n",
        "print(f\"   Model Name: {classifier.model.config.name_or_path}\")\n",
        "print(f\"   Model Type: {classifier.model.config.model_type}\")\n",
        "print(f\"   Number of Labels: {classifier.model.config.num_labels}\")\n",
        "print(f\"   Label Mapping: {classifier.model.config.id2label}\")\n",
        "\n",
        "# Model size information\n",
        "total_params = sum(p.numel() for p in classifier.model.parameters())\n",
        "trainable_params = sum(p.numel() for p in classifier.model.parameters() if p.requires_grad)\n",
        "\n",
        "print(f\"\\n📊 Model Size:\")\n",
        "print(f\"   Total Parameters: {total_params:,}\")\n",
        "print(f\"   Trainable Parameters: {trainable_params:,}\")\n",
        "print(f\"   Model Size: ~{total_params/1_000_000:.1f}M parameters\")"
      ]
    },
    {
      "cell_type": "markdown",
      "metadata": {
        "id": "If8SL6pUKkCP"
      },
      "source": [
        "## 9. Performance Considerations\n",
        "\n",
        "Understanding performance characteristics helps in production deployment:"
      ]
    },
    {
      "cell_type": "code",
      "execution_count": 8,
      "metadata": {
        "id": "lORsxGiJKkCP",
        "outputId": "551450fc-fee4-4ad7-e167-ec36c52ee351",
        "colab": {
          "base_uri": "https://localhost:8080/"
        }
      },
      "outputs": [
        {
          "output_type": "stream",
          "name": "stdout",
          "text": [
            "⏱️ Performance Analysis:\n",
            "   Single text (avg): 0.045s\n",
            "   Batch of 10 (avg): 0.445s\n",
            "   Speedup factor: 0.2x\n",
            "\n",
            "💡 Tip: Batch processing is more efficient for multiple texts!\n"
          ]
        }
      ],
      "source": [
        "import time\n",
        "\n",
        "# Performance timing\n",
        "def time_inference(texts, num_runs=5):\n",
        "    \"\"\"Time the inference process for performance analysis.\"\"\"\n",
        "    times = []\n",
        "\n",
        "    for _ in range(num_runs):\n",
        "        start_time = time.time()\n",
        "        _ = classifier(texts)\n",
        "        end_time = time.time()\n",
        "        times.append(end_time - start_time)\n",
        "\n",
        "    return times\n",
        "\n",
        "# Test with single text\n",
        "single_text = \"This is a test for performance measurement.\"\n",
        "single_times = time_inference(single_text)\n",
        "\n",
        "# Test with batch\n",
        "batch_text = [single_text] * 10\n",
        "batch_times = time_inference(batch_text)\n",
        "\n",
        "print(\"⏱️ Performance Analysis:\")\n",
        "print(f\"   Single text (avg): {sum(single_times)/len(single_times):.3f}s\")\n",
        "print(f\"   Batch of 10 (avg): {sum(batch_times)/len(batch_times):.3f}s\")\n",
        "print(f\"   Speedup factor: {(sum(single_times)*10)/(sum(batch_times)*len(batch_times)):.1f}x\")\n",
        "print(\"\\n💡 Tip: Batch processing is more efficient for multiple texts!\")"
      ]
    },
    {
      "cell_type": "markdown",
      "metadata": {
        "id": "yyaBB5eKKkCP"
      },
      "source": [
        "---\n",
        "\n",
        "## 📋 Summary\n",
        "\n",
        "### 🔑 Key Concepts Mastered\n",
        "- **Sentiment Analysis**: Understanding how to classify text emotional tone using transformers\n",
        "- **Hugging Face Pipeline**: Using the high-level pipeline API for quick sentiment analysis\n",
        "- **Output Interpretation**: Understanding confidence scores and label predictions\n",
        "- **Batch Processing**: Efficiently processing multiple texts at once\n",
        "- **Performance Considerations**: Understanding timing and efficiency trade-offs\n",
        "\n",
        "### 📈 Best Practices Learned\n",
        "- Use batch processing for multiple texts to improve efficiency\n",
        "- Always check confidence scores to understand prediction reliability\n",
        "- Consider the model's training data and potential biases in real-world applications\n",
        "- Monitor performance characteristics for production deployment\n",
        "\n",
        "### 🚀 Next Steps\n",
        "- **Advanced Notebooks**: Explore custom model fine-tuning for specific domains\n",
        "- **Model Comparison**: Compare different sentiment analysis models\n",
        "- **Documentation**: Review [Hugging Face Transformers documentation](https://huggingface.co/docs/transformers/) for advanced usage\n",
        "- **External Resources**: Explore the [Model Hub](https://huggingface.co/models?pipeline_tag=text-classification) for specialized models\n",
        "\n",
        "---\n",
        "\n",
        "## About the Author\n",
        "\n",
        "**Vu Hung Nguyen** - AI Engineer & Researcher\n",
        "\n",
        "Connect with me:\n",
        "- 🌐 **Website**: [vuhung16au.github.io](https://vuhung16au.github.io/)\n",
        "- 💼 **LinkedIn**: [linkedin.com/in/nguyenvuhung](https://www.linkedin.com/in/nguyenvuhung/)\n",
        "- 💻 **GitHub**: [github.com/vuhung16au](https://github.com/vuhung16au/)\n",
        "\n",
        "*This notebook is part of the [HF Transformer Trove](https://github.com/vuhung16au/hf-transformer-trove) educational series.*"
      ]
    }
  ],
  "metadata": {
    "kernelspec": {
      "display_name": "Python 3",
      "language": "python",
      "name": "python3"
    },
    "language_info": {
      "codemirror_mode": {
        "name": "ipython",
        "version": 3
      },
      "file_extension": ".py",
      "mimetype": "text/x-python",
      "name": "python",
      "nbconvert_exporter": "python",
      "pygments_lexer": "ipython3",
      "version": "3.8.5"
    },
    "colab": {
      "provenance": []
    },
    "widgets": {
      "application/vnd.jupyter.widget-state+json": {
        "793a0b480088440f851ef9405a1b9820": {
          "model_module": "@jupyter-widgets/controls",
          "model_name": "HBoxModel",
          "model_module_version": "1.5.0",
          "state": {
            "_dom_classes": [],
            "_model_module": "@jupyter-widgets/controls",
            "_model_module_version": "1.5.0",
            "_model_name": "HBoxModel",
            "_view_count": null,
            "_view_module": "@jupyter-widgets/controls",
            "_view_module_version": "1.5.0",
            "_view_name": "HBoxView",
            "box_style": "",
            "children": [
              "IPY_MODEL_b555f7fc02714b45b60c8d54cf7b7a3c",
              "IPY_MODEL_406f2de35fbe45099aa9a0e12345adb2",
              "IPY_MODEL_0d704a116f51418fbeb2feefad213b0e"
            ],
            "layout": "IPY_MODEL_8420797f9fc54b44b4669ea7c7bf3f1e"
          }
        },
        "b555f7fc02714b45b60c8d54cf7b7a3c": {
          "model_module": "@jupyter-widgets/controls",
          "model_name": "HTMLModel",
          "model_module_version": "1.5.0",
          "state": {
            "_dom_classes": [],
            "_model_module": "@jupyter-widgets/controls",
            "_model_module_version": "1.5.0",
            "_model_name": "HTMLModel",
            "_view_count": null,
            "_view_module": "@jupyter-widgets/controls",
            "_view_module_version": "1.5.0",
            "_view_name": "HTMLView",
            "description": "",
            "description_tooltip": null,
            "layout": "IPY_MODEL_cdd368d8583b4d6b9a97bbe9d81e0c76",
            "placeholder": "​",
            "style": "IPY_MODEL_bd8e2851b33545cba5d8ab8d31c13621",
            "value": "config.json: 100%"
          }
        },
        "406f2de35fbe45099aa9a0e12345adb2": {
          "model_module": "@jupyter-widgets/controls",
          "model_name": "FloatProgressModel",
          "model_module_version": "1.5.0",
          "state": {
            "_dom_classes": [],
            "_model_module": "@jupyter-widgets/controls",
            "_model_module_version": "1.5.0",
            "_model_name": "FloatProgressModel",
            "_view_count": null,
            "_view_module": "@jupyter-widgets/controls",
            "_view_module_version": "1.5.0",
            "_view_name": "ProgressView",
            "bar_style": "success",
            "description": "",
            "description_tooltip": null,
            "layout": "IPY_MODEL_159669cf53a344489098eeb5b20eb019",
            "max": 629,
            "min": 0,
            "orientation": "horizontal",
            "style": "IPY_MODEL_40d4cc8e55c74ccb9b98d17e6ca4d763",
            "value": 629
          }
        },
        "0d704a116f51418fbeb2feefad213b0e": {
          "model_module": "@jupyter-widgets/controls",
          "model_name": "HTMLModel",
          "model_module_version": "1.5.0",
          "state": {
            "_dom_classes": [],
            "_model_module": "@jupyter-widgets/controls",
            "_model_module_version": "1.5.0",
            "_model_name": "HTMLModel",
            "_view_count": null,
            "_view_module": "@jupyter-widgets/controls",
            "_view_module_version": "1.5.0",
            "_view_name": "HTMLView",
            "description": "",
            "description_tooltip": null,
            "layout": "IPY_MODEL_cd78d0bb2eae4b63b165010db8caacf7",
            "placeholder": "​",
            "style": "IPY_MODEL_80db60edcf8449738d638dcaee7a0ac2",
            "value": " 629/629 [00:00&lt;00:00, 56.4kB/s]"
          }
        },
        "8420797f9fc54b44b4669ea7c7bf3f1e": {
          "model_module": "@jupyter-widgets/base",
          "model_name": "LayoutModel",
          "model_module_version": "1.2.0",
          "state": {
            "_model_module": "@jupyter-widgets/base",
            "_model_module_version": "1.2.0",
            "_model_name": "LayoutModel",
            "_view_count": null,
            "_view_module": "@jupyter-widgets/base",
            "_view_module_version": "1.2.0",
            "_view_name": "LayoutView",
            "align_content": null,
            "align_items": null,
            "align_self": null,
            "border": null,
            "bottom": null,
            "display": null,
            "flex": null,
            "flex_flow": null,
            "grid_area": null,
            "grid_auto_columns": null,
            "grid_auto_flow": null,
            "grid_auto_rows": null,
            "grid_column": null,
            "grid_gap": null,
            "grid_row": null,
            "grid_template_areas": null,
            "grid_template_columns": null,
            "grid_template_rows": null,
            "height": null,
            "justify_content": null,
            "justify_items": null,
            "left": null,
            "margin": null,
            "max_height": null,
            "max_width": null,
            "min_height": null,
            "min_width": null,
            "object_fit": null,
            "object_position": null,
            "order": null,
            "overflow": null,
            "overflow_x": null,
            "overflow_y": null,
            "padding": null,
            "right": null,
            "top": null,
            "visibility": null,
            "width": null
          }
        },
        "cdd368d8583b4d6b9a97bbe9d81e0c76": {
          "model_module": "@jupyter-widgets/base",
          "model_name": "LayoutModel",
          "model_module_version": "1.2.0",
          "state": {
            "_model_module": "@jupyter-widgets/base",
            "_model_module_version": "1.2.0",
            "_model_name": "LayoutModel",
            "_view_count": null,
            "_view_module": "@jupyter-widgets/base",
            "_view_module_version": "1.2.0",
            "_view_name": "LayoutView",
            "align_content": null,
            "align_items": null,
            "align_self": null,
            "border": null,
            "bottom": null,
            "display": null,
            "flex": null,
            "flex_flow": null,
            "grid_area": null,
            "grid_auto_columns": null,
            "grid_auto_flow": null,
            "grid_auto_rows": null,
            "grid_column": null,
            "grid_gap": null,
            "grid_row": null,
            "grid_template_areas": null,
            "grid_template_columns": null,
            "grid_template_rows": null,
            "height": null,
            "justify_content": null,
            "justify_items": null,
            "left": null,
            "margin": null,
            "max_height": null,
            "max_width": null,
            "min_height": null,
            "min_width": null,
            "object_fit": null,
            "object_position": null,
            "order": null,
            "overflow": null,
            "overflow_x": null,
            "overflow_y": null,
            "padding": null,
            "right": null,
            "top": null,
            "visibility": null,
            "width": null
          }
        },
        "bd8e2851b33545cba5d8ab8d31c13621": {
          "model_module": "@jupyter-widgets/controls",
          "model_name": "DescriptionStyleModel",
          "model_module_version": "1.5.0",
          "state": {
            "_model_module": "@jupyter-widgets/controls",
            "_model_module_version": "1.5.0",
            "_model_name": "DescriptionStyleModel",
            "_view_count": null,
            "_view_module": "@jupyter-widgets/base",
            "_view_module_version": "1.2.0",
            "_view_name": "StyleView",
            "description_width": ""
          }
        },
        "159669cf53a344489098eeb5b20eb019": {
          "model_module": "@jupyter-widgets/base",
          "model_name": "LayoutModel",
          "model_module_version": "1.2.0",
          "state": {
            "_model_module": "@jupyter-widgets/base",
            "_model_module_version": "1.2.0",
            "_model_name": "LayoutModel",
            "_view_count": null,
            "_view_module": "@jupyter-widgets/base",
            "_view_module_version": "1.2.0",
            "_view_name": "LayoutView",
            "align_content": null,
            "align_items": null,
            "align_self": null,
            "border": null,
            "bottom": null,
            "display": null,
            "flex": null,
            "flex_flow": null,
            "grid_area": null,
            "grid_auto_columns": null,
            "grid_auto_flow": null,
            "grid_auto_rows": null,
            "grid_column": null,
            "grid_gap": null,
            "grid_row": null,
            "grid_template_areas": null,
            "grid_template_columns": null,
            "grid_template_rows": null,
            "height": null,
            "justify_content": null,
            "justify_items": null,
            "left": null,
            "margin": null,
            "max_height": null,
            "max_width": null,
            "min_height": null,
            "min_width": null,
            "object_fit": null,
            "object_position": null,
            "order": null,
            "overflow": null,
            "overflow_x": null,
            "overflow_y": null,
            "padding": null,
            "right": null,
            "top": null,
            "visibility": null,
            "width": null
          }
        },
        "40d4cc8e55c74ccb9b98d17e6ca4d763": {
          "model_module": "@jupyter-widgets/controls",
          "model_name": "ProgressStyleModel",
          "model_module_version": "1.5.0",
          "state": {
            "_model_module": "@jupyter-widgets/controls",
            "_model_module_version": "1.5.0",
            "_model_name": "ProgressStyleModel",
            "_view_count": null,
            "_view_module": "@jupyter-widgets/base",
            "_view_module_version": "1.2.0",
            "_view_name": "StyleView",
            "bar_color": null,
            "description_width": ""
          }
        },
        "cd78d0bb2eae4b63b165010db8caacf7": {
          "model_module": "@jupyter-widgets/base",
          "model_name": "LayoutModel",
          "model_module_version": "1.2.0",
          "state": {
            "_model_module": "@jupyter-widgets/base",
            "_model_module_version": "1.2.0",
            "_model_name": "LayoutModel",
            "_view_count": null,
            "_view_module": "@jupyter-widgets/base",
            "_view_module_version": "1.2.0",
            "_view_name": "LayoutView",
            "align_content": null,
            "align_items": null,
            "align_self": null,
            "border": null,
            "bottom": null,
            "display": null,
            "flex": null,
            "flex_flow": null,
            "grid_area": null,
            "grid_auto_columns": null,
            "grid_auto_flow": null,
            "grid_auto_rows": null,
            "grid_column": null,
            "grid_gap": null,
            "grid_row": null,
            "grid_template_areas": null,
            "grid_template_columns": null,
            "grid_template_rows": null,
            "height": null,
            "justify_content": null,
            "justify_items": null,
            "left": null,
            "margin": null,
            "max_height": null,
            "max_width": null,
            "min_height": null,
            "min_width": null,
            "object_fit": null,
            "object_position": null,
            "order": null,
            "overflow": null,
            "overflow_x": null,
            "overflow_y": null,
            "padding": null,
            "right": null,
            "top": null,
            "visibility": null,
            "width": null
          }
        },
        "80db60edcf8449738d638dcaee7a0ac2": {
          "model_module": "@jupyter-widgets/controls",
          "model_name": "DescriptionStyleModel",
          "model_module_version": "1.5.0",
          "state": {
            "_model_module": "@jupyter-widgets/controls",
            "_model_module_version": "1.5.0",
            "_model_name": "DescriptionStyleModel",
            "_view_count": null,
            "_view_module": "@jupyter-widgets/base",
            "_view_module_version": "1.2.0",
            "_view_name": "StyleView",
            "description_width": ""
          }
        },
        "279c118eb18747378b0c9675f85ac3ca": {
          "model_module": "@jupyter-widgets/controls",
          "model_name": "HBoxModel",
          "model_module_version": "1.5.0",
          "state": {
            "_dom_classes": [],
            "_model_module": "@jupyter-widgets/controls",
            "_model_module_version": "1.5.0",
            "_model_name": "HBoxModel",
            "_view_count": null,
            "_view_module": "@jupyter-widgets/controls",
            "_view_module_version": "1.5.0",
            "_view_name": "HBoxView",
            "box_style": "",
            "children": [
              "IPY_MODEL_0be02b9928fe47a4a54a20cdd77f18a8",
              "IPY_MODEL_a5a6a9c60c794b2ca4fb632e4cd70023",
              "IPY_MODEL_092626a9777e4addb57d94bdefc4ff2d"
            ],
            "layout": "IPY_MODEL_d574905b01de409aa2fec168e0d3c2d7"
          }
        },
        "0be02b9928fe47a4a54a20cdd77f18a8": {
          "model_module": "@jupyter-widgets/controls",
          "model_name": "HTMLModel",
          "model_module_version": "1.5.0",
          "state": {
            "_dom_classes": [],
            "_model_module": "@jupyter-widgets/controls",
            "_model_module_version": "1.5.0",
            "_model_name": "HTMLModel",
            "_view_count": null,
            "_view_module": "@jupyter-widgets/controls",
            "_view_module_version": "1.5.0",
            "_view_name": "HTMLView",
            "description": "",
            "description_tooltip": null,
            "layout": "IPY_MODEL_38556794d8534c42ada56763a70c7570",
            "placeholder": "​",
            "style": "IPY_MODEL_0fe606a15304452b8cdc53c369eb08b0",
            "value": "model.safetensors: 100%"
          }
        },
        "a5a6a9c60c794b2ca4fb632e4cd70023": {
          "model_module": "@jupyter-widgets/controls",
          "model_name": "FloatProgressModel",
          "model_module_version": "1.5.0",
          "state": {
            "_dom_classes": [],
            "_model_module": "@jupyter-widgets/controls",
            "_model_module_version": "1.5.0",
            "_model_name": "FloatProgressModel",
            "_view_count": null,
            "_view_module": "@jupyter-widgets/controls",
            "_view_module_version": "1.5.0",
            "_view_name": "ProgressView",
            "bar_style": "success",
            "description": "",
            "description_tooltip": null,
            "layout": "IPY_MODEL_a9bb4c78ebc44bab81c67c254c4b3e8a",
            "max": 267832558,
            "min": 0,
            "orientation": "horizontal",
            "style": "IPY_MODEL_0529f8296dc04c53adf7bc18232bb6bb",
            "value": 267832558
          }
        },
        "092626a9777e4addb57d94bdefc4ff2d": {
          "model_module": "@jupyter-widgets/controls",
          "model_name": "HTMLModel",
          "model_module_version": "1.5.0",
          "state": {
            "_dom_classes": [],
            "_model_module": "@jupyter-widgets/controls",
            "_model_module_version": "1.5.0",
            "_model_name": "HTMLModel",
            "_view_count": null,
            "_view_module": "@jupyter-widgets/controls",
            "_view_module_version": "1.5.0",
            "_view_name": "HTMLView",
            "description": "",
            "description_tooltip": null,
            "layout": "IPY_MODEL_a822cdcacfa14a78aa64f69563d9c973",
            "placeholder": "​",
            "style": "IPY_MODEL_a63d971e58a34500969bf89ad7e139d3",
            "value": " 268M/268M [00:06&lt;00:00, 49.3MB/s]"
          }
        },
        "d574905b01de409aa2fec168e0d3c2d7": {
          "model_module": "@jupyter-widgets/base",
          "model_name": "LayoutModel",
          "model_module_version": "1.2.0",
          "state": {
            "_model_module": "@jupyter-widgets/base",
            "_model_module_version": "1.2.0",
            "_model_name": "LayoutModel",
            "_view_count": null,
            "_view_module": "@jupyter-widgets/base",
            "_view_module_version": "1.2.0",
            "_view_name": "LayoutView",
            "align_content": null,
            "align_items": null,
            "align_self": null,
            "border": null,
            "bottom": null,
            "display": null,
            "flex": null,
            "flex_flow": null,
            "grid_area": null,
            "grid_auto_columns": null,
            "grid_auto_flow": null,
            "grid_auto_rows": null,
            "grid_column": null,
            "grid_gap": null,
            "grid_row": null,
            "grid_template_areas": null,
            "grid_template_columns": null,
            "grid_template_rows": null,
            "height": null,
            "justify_content": null,
            "justify_items": null,
            "left": null,
            "margin": null,
            "max_height": null,
            "max_width": null,
            "min_height": null,
            "min_width": null,
            "object_fit": null,
            "object_position": null,
            "order": null,
            "overflow": null,
            "overflow_x": null,
            "overflow_y": null,
            "padding": null,
            "right": null,
            "top": null,
            "visibility": null,
            "width": null
          }
        },
        "38556794d8534c42ada56763a70c7570": {
          "model_module": "@jupyter-widgets/base",
          "model_name": "LayoutModel",
          "model_module_version": "1.2.0",
          "state": {
            "_model_module": "@jupyter-widgets/base",
            "_model_module_version": "1.2.0",
            "_model_name": "LayoutModel",
            "_view_count": null,
            "_view_module": "@jupyter-widgets/base",
            "_view_module_version": "1.2.0",
            "_view_name": "LayoutView",
            "align_content": null,
            "align_items": null,
            "align_self": null,
            "border": null,
            "bottom": null,
            "display": null,
            "flex": null,
            "flex_flow": null,
            "grid_area": null,
            "grid_auto_columns": null,
            "grid_auto_flow": null,
            "grid_auto_rows": null,
            "grid_column": null,
            "grid_gap": null,
            "grid_row": null,
            "grid_template_areas": null,
            "grid_template_columns": null,
            "grid_template_rows": null,
            "height": null,
            "justify_content": null,
            "justify_items": null,
            "left": null,
            "margin": null,
            "max_height": null,
            "max_width": null,
            "min_height": null,
            "min_width": null,
            "object_fit": null,
            "object_position": null,
            "order": null,
            "overflow": null,
            "overflow_x": null,
            "overflow_y": null,
            "padding": null,
            "right": null,
            "top": null,
            "visibility": null,
            "width": null
          }
        },
        "0fe606a15304452b8cdc53c369eb08b0": {
          "model_module": "@jupyter-widgets/controls",
          "model_name": "DescriptionStyleModel",
          "model_module_version": "1.5.0",
          "state": {
            "_model_module": "@jupyter-widgets/controls",
            "_model_module_version": "1.5.0",
            "_model_name": "DescriptionStyleModel",
            "_view_count": null,
            "_view_module": "@jupyter-widgets/base",
            "_view_module_version": "1.2.0",
            "_view_name": "StyleView",
            "description_width": ""
          }
        },
        "a9bb4c78ebc44bab81c67c254c4b3e8a": {
          "model_module": "@jupyter-widgets/base",
          "model_name": "LayoutModel",
          "model_module_version": "1.2.0",
          "state": {
            "_model_module": "@jupyter-widgets/base",
            "_model_module_version": "1.2.0",
            "_model_name": "LayoutModel",
            "_view_count": null,
            "_view_module": "@jupyter-widgets/base",
            "_view_module_version": "1.2.0",
            "_view_name": "LayoutView",
            "align_content": null,
            "align_items": null,
            "align_self": null,
            "border": null,
            "bottom": null,
            "display": null,
            "flex": null,
            "flex_flow": null,
            "grid_area": null,
            "grid_auto_columns": null,
            "grid_auto_flow": null,
            "grid_auto_rows": null,
            "grid_column": null,
            "grid_gap": null,
            "grid_row": null,
            "grid_template_areas": null,
            "grid_template_columns": null,
            "grid_template_rows": null,
            "height": null,
            "justify_content": null,
            "justify_items": null,
            "left": null,
            "margin": null,
            "max_height": null,
            "max_width": null,
            "min_height": null,
            "min_width": null,
            "object_fit": null,
            "object_position": null,
            "order": null,
            "overflow": null,
            "overflow_x": null,
            "overflow_y": null,
            "padding": null,
            "right": null,
            "top": null,
            "visibility": null,
            "width": null
          }
        },
        "0529f8296dc04c53adf7bc18232bb6bb": {
          "model_module": "@jupyter-widgets/controls",
          "model_name": "ProgressStyleModel",
          "model_module_version": "1.5.0",
          "state": {
            "_model_module": "@jupyter-widgets/controls",
            "_model_module_version": "1.5.0",
            "_model_name": "ProgressStyleModel",
            "_view_count": null,
            "_view_module": "@jupyter-widgets/base",
            "_view_module_version": "1.2.0",
            "_view_name": "StyleView",
            "bar_color": null,
            "description_width": ""
          }
        },
        "a822cdcacfa14a78aa64f69563d9c973": {
          "model_module": "@jupyter-widgets/base",
          "model_name": "LayoutModel",
          "model_module_version": "1.2.0",
          "state": {
            "_model_module": "@jupyter-widgets/base",
            "_model_module_version": "1.2.0",
            "_model_name": "LayoutModel",
            "_view_count": null,
            "_view_module": "@jupyter-widgets/base",
            "_view_module_version": "1.2.0",
            "_view_name": "LayoutView",
            "align_content": null,
            "align_items": null,
            "align_self": null,
            "border": null,
            "bottom": null,
            "display": null,
            "flex": null,
            "flex_flow": null,
            "grid_area": null,
            "grid_auto_columns": null,
            "grid_auto_flow": null,
            "grid_auto_rows": null,
            "grid_column": null,
            "grid_gap": null,
            "grid_row": null,
            "grid_template_areas": null,
            "grid_template_columns": null,
            "grid_template_rows": null,
            "height": null,
            "justify_content": null,
            "justify_items": null,
            "left": null,
            "margin": null,
            "max_height": null,
            "max_width": null,
            "min_height": null,
            "min_width": null,
            "object_fit": null,
            "object_position": null,
            "order": null,
            "overflow": null,
            "overflow_x": null,
            "overflow_y": null,
            "padding": null,
            "right": null,
            "top": null,
            "visibility": null,
            "width": null
          }
        },
        "a63d971e58a34500969bf89ad7e139d3": {
          "model_module": "@jupyter-widgets/controls",
          "model_name": "DescriptionStyleModel",
          "model_module_version": "1.5.0",
          "state": {
            "_model_module": "@jupyter-widgets/controls",
            "_model_module_version": "1.5.0",
            "_model_name": "DescriptionStyleModel",
            "_view_count": null,
            "_view_module": "@jupyter-widgets/base",
            "_view_module_version": "1.2.0",
            "_view_name": "StyleView",
            "description_width": ""
          }
        },
        "0d1df8aa885d4209989125e7a3887a3b": {
          "model_module": "@jupyter-widgets/controls",
          "model_name": "HBoxModel",
          "model_module_version": "1.5.0",
          "state": {
            "_dom_classes": [],
            "_model_module": "@jupyter-widgets/controls",
            "_model_module_version": "1.5.0",
            "_model_name": "HBoxModel",
            "_view_count": null,
            "_view_module": "@jupyter-widgets/controls",
            "_view_module_version": "1.5.0",
            "_view_name": "HBoxView",
            "box_style": "",
            "children": [
              "IPY_MODEL_17065e337df14fa39e50529fd8d57c45",
              "IPY_MODEL_0ddac43b43da450c9be6ae659a1965ce",
              "IPY_MODEL_89ce31352d194fd4b2d95e5c7f5c69bc"
            ],
            "layout": "IPY_MODEL_4e02f8b823bf4c79ae3c703bca1f327d"
          }
        },
        "17065e337df14fa39e50529fd8d57c45": {
          "model_module": "@jupyter-widgets/controls",
          "model_name": "HTMLModel",
          "model_module_version": "1.5.0",
          "state": {
            "_dom_classes": [],
            "_model_module": "@jupyter-widgets/controls",
            "_model_module_version": "1.5.0",
            "_model_name": "HTMLModel",
            "_view_count": null,
            "_view_module": "@jupyter-widgets/controls",
            "_view_module_version": "1.5.0",
            "_view_name": "HTMLView",
            "description": "",
            "description_tooltip": null,
            "layout": "IPY_MODEL_8586efae80eb4297886f953280aa2e61",
            "placeholder": "​",
            "style": "IPY_MODEL_1241ec10582244e6975054b750e1a9ef",
            "value": "tokenizer_config.json: 100%"
          }
        },
        "0ddac43b43da450c9be6ae659a1965ce": {
          "model_module": "@jupyter-widgets/controls",
          "model_name": "FloatProgressModel",
          "model_module_version": "1.5.0",
          "state": {
            "_dom_classes": [],
            "_model_module": "@jupyter-widgets/controls",
            "_model_module_version": "1.5.0",
            "_model_name": "FloatProgressModel",
            "_view_count": null,
            "_view_module": "@jupyter-widgets/controls",
            "_view_module_version": "1.5.0",
            "_view_name": "ProgressView",
            "bar_style": "success",
            "description": "",
            "description_tooltip": null,
            "layout": "IPY_MODEL_ba288e84160e45ffa3cb1153fca696d5",
            "max": 48,
            "min": 0,
            "orientation": "horizontal",
            "style": "IPY_MODEL_cc5cf370ba914db59117d855e0f473b2",
            "value": 48
          }
        },
        "89ce31352d194fd4b2d95e5c7f5c69bc": {
          "model_module": "@jupyter-widgets/controls",
          "model_name": "HTMLModel",
          "model_module_version": "1.5.0",
          "state": {
            "_dom_classes": [],
            "_model_module": "@jupyter-widgets/controls",
            "_model_module_version": "1.5.0",
            "_model_name": "HTMLModel",
            "_view_count": null,
            "_view_module": "@jupyter-widgets/controls",
            "_view_module_version": "1.5.0",
            "_view_name": "HTMLView",
            "description": "",
            "description_tooltip": null,
            "layout": "IPY_MODEL_27b8553b61a44628b82327eeae95a40d",
            "placeholder": "​",
            "style": "IPY_MODEL_1bf85beb535744eb8b03d27cfd84ced2",
            "value": " 48.0/48.0 [00:00&lt;00:00, 3.31kB/s]"
          }
        },
        "4e02f8b823bf4c79ae3c703bca1f327d": {
          "model_module": "@jupyter-widgets/base",
          "model_name": "LayoutModel",
          "model_module_version": "1.2.0",
          "state": {
            "_model_module": "@jupyter-widgets/base",
            "_model_module_version": "1.2.0",
            "_model_name": "LayoutModel",
            "_view_count": null,
            "_view_module": "@jupyter-widgets/base",
            "_view_module_version": "1.2.0",
            "_view_name": "LayoutView",
            "align_content": null,
            "align_items": null,
            "align_self": null,
            "border": null,
            "bottom": null,
            "display": null,
            "flex": null,
            "flex_flow": null,
            "grid_area": null,
            "grid_auto_columns": null,
            "grid_auto_flow": null,
            "grid_auto_rows": null,
            "grid_column": null,
            "grid_gap": null,
            "grid_row": null,
            "grid_template_areas": null,
            "grid_template_columns": null,
            "grid_template_rows": null,
            "height": null,
            "justify_content": null,
            "justify_items": null,
            "left": null,
            "margin": null,
            "max_height": null,
            "max_width": null,
            "min_height": null,
            "min_width": null,
            "object_fit": null,
            "object_position": null,
            "order": null,
            "overflow": null,
            "overflow_x": null,
            "overflow_y": null,
            "padding": null,
            "right": null,
            "top": null,
            "visibility": null,
            "width": null
          }
        },
        "8586efae80eb4297886f953280aa2e61": {
          "model_module": "@jupyter-widgets/base",
          "model_name": "LayoutModel",
          "model_module_version": "1.2.0",
          "state": {
            "_model_module": "@jupyter-widgets/base",
            "_model_module_version": "1.2.0",
            "_model_name": "LayoutModel",
            "_view_count": null,
            "_view_module": "@jupyter-widgets/base",
            "_view_module_version": "1.2.0",
            "_view_name": "LayoutView",
            "align_content": null,
            "align_items": null,
            "align_self": null,
            "border": null,
            "bottom": null,
            "display": null,
            "flex": null,
            "flex_flow": null,
            "grid_area": null,
            "grid_auto_columns": null,
            "grid_auto_flow": null,
            "grid_auto_rows": null,
            "grid_column": null,
            "grid_gap": null,
            "grid_row": null,
            "grid_template_areas": null,
            "grid_template_columns": null,
            "grid_template_rows": null,
            "height": null,
            "justify_content": null,
            "justify_items": null,
            "left": null,
            "margin": null,
            "max_height": null,
            "max_width": null,
            "min_height": null,
            "min_width": null,
            "object_fit": null,
            "object_position": null,
            "order": null,
            "overflow": null,
            "overflow_x": null,
            "overflow_y": null,
            "padding": null,
            "right": null,
            "top": null,
            "visibility": null,
            "width": null
          }
        },
        "1241ec10582244e6975054b750e1a9ef": {
          "model_module": "@jupyter-widgets/controls",
          "model_name": "DescriptionStyleModel",
          "model_module_version": "1.5.0",
          "state": {
            "_model_module": "@jupyter-widgets/controls",
            "_model_module_version": "1.5.0",
            "_model_name": "DescriptionStyleModel",
            "_view_count": null,
            "_view_module": "@jupyter-widgets/base",
            "_view_module_version": "1.2.0",
            "_view_name": "StyleView",
            "description_width": ""
          }
        },
        "ba288e84160e45ffa3cb1153fca696d5": {
          "model_module": "@jupyter-widgets/base",
          "model_name": "LayoutModel",
          "model_module_version": "1.2.0",
          "state": {
            "_model_module": "@jupyter-widgets/base",
            "_model_module_version": "1.2.0",
            "_model_name": "LayoutModel",
            "_view_count": null,
            "_view_module": "@jupyter-widgets/base",
            "_view_module_version": "1.2.0",
            "_view_name": "LayoutView",
            "align_content": null,
            "align_items": null,
            "align_self": null,
            "border": null,
            "bottom": null,
            "display": null,
            "flex": null,
            "flex_flow": null,
            "grid_area": null,
            "grid_auto_columns": null,
            "grid_auto_flow": null,
            "grid_auto_rows": null,
            "grid_column": null,
            "grid_gap": null,
            "grid_row": null,
            "grid_template_areas": null,
            "grid_template_columns": null,
            "grid_template_rows": null,
            "height": null,
            "justify_content": null,
            "justify_items": null,
            "left": null,
            "margin": null,
            "max_height": null,
            "max_width": null,
            "min_height": null,
            "min_width": null,
            "object_fit": null,
            "object_position": null,
            "order": null,
            "overflow": null,
            "overflow_x": null,
            "overflow_y": null,
            "padding": null,
            "right": null,
            "top": null,
            "visibility": null,
            "width": null
          }
        },
        "cc5cf370ba914db59117d855e0f473b2": {
          "model_module": "@jupyter-widgets/controls",
          "model_name": "ProgressStyleModel",
          "model_module_version": "1.5.0",
          "state": {
            "_model_module": "@jupyter-widgets/controls",
            "_model_module_version": "1.5.0",
            "_model_name": "ProgressStyleModel",
            "_view_count": null,
            "_view_module": "@jupyter-widgets/base",
            "_view_module_version": "1.2.0",
            "_view_name": "StyleView",
            "bar_color": null,
            "description_width": ""
          }
        },
        "27b8553b61a44628b82327eeae95a40d": {
          "model_module": "@jupyter-widgets/base",
          "model_name": "LayoutModel",
          "model_module_version": "1.2.0",
          "state": {
            "_model_module": "@jupyter-widgets/base",
            "_model_module_version": "1.2.0",
            "_model_name": "LayoutModel",
            "_view_count": null,
            "_view_module": "@jupyter-widgets/base",
            "_view_module_version": "1.2.0",
            "_view_name": "LayoutView",
            "align_content": null,
            "align_items": null,
            "align_self": null,
            "border": null,
            "bottom": null,
            "display": null,
            "flex": null,
            "flex_flow": null,
            "grid_area": null,
            "grid_auto_columns": null,
            "grid_auto_flow": null,
            "grid_auto_rows": null,
            "grid_column": null,
            "grid_gap": null,
            "grid_row": null,
            "grid_template_areas": null,
            "grid_template_columns": null,
            "grid_template_rows": null,
            "height": null,
            "justify_content": null,
            "justify_items": null,
            "left": null,
            "margin": null,
            "max_height": null,
            "max_width": null,
            "min_height": null,
            "min_width": null,
            "object_fit": null,
            "object_position": null,
            "order": null,
            "overflow": null,
            "overflow_x": null,
            "overflow_y": null,
            "padding": null,
            "right": null,
            "top": null,
            "visibility": null,
            "width": null
          }
        },
        "1bf85beb535744eb8b03d27cfd84ced2": {
          "model_module": "@jupyter-widgets/controls",
          "model_name": "DescriptionStyleModel",
          "model_module_version": "1.5.0",
          "state": {
            "_model_module": "@jupyter-widgets/controls",
            "_model_module_version": "1.5.0",
            "_model_name": "DescriptionStyleModel",
            "_view_count": null,
            "_view_module": "@jupyter-widgets/base",
            "_view_module_version": "1.2.0",
            "_view_name": "StyleView",
            "description_width": ""
          }
        },
        "487f7abeecdc4edebe59e4aec41b49fb": {
          "model_module": "@jupyter-widgets/controls",
          "model_name": "HBoxModel",
          "model_module_version": "1.5.0",
          "state": {
            "_dom_classes": [],
            "_model_module": "@jupyter-widgets/controls",
            "_model_module_version": "1.5.0",
            "_model_name": "HBoxModel",
            "_view_count": null,
            "_view_module": "@jupyter-widgets/controls",
            "_view_module_version": "1.5.0",
            "_view_name": "HBoxView",
            "box_style": "",
            "children": [
              "IPY_MODEL_c662229cba0d4deea530cf238aea9093",
              "IPY_MODEL_4b2349c05368461296cba55aec49497c",
              "IPY_MODEL_85d479ba38574964ae0af86adfed459e"
            ],
            "layout": "IPY_MODEL_38053531c31b4f529851aaaed822cd3a"
          }
        },
        "c662229cba0d4deea530cf238aea9093": {
          "model_module": "@jupyter-widgets/controls",
          "model_name": "HTMLModel",
          "model_module_version": "1.5.0",
          "state": {
            "_dom_classes": [],
            "_model_module": "@jupyter-widgets/controls",
            "_model_module_version": "1.5.0",
            "_model_name": "HTMLModel",
            "_view_count": null,
            "_view_module": "@jupyter-widgets/controls",
            "_view_module_version": "1.5.0",
            "_view_name": "HTMLView",
            "description": "",
            "description_tooltip": null,
            "layout": "IPY_MODEL_71de0b450c47420bbe7794b11231c5a1",
            "placeholder": "​",
            "style": "IPY_MODEL_d7a583e42c474d4f94cb5b3f3721cb28",
            "value": "vocab.txt: "
          }
        },
        "4b2349c05368461296cba55aec49497c": {
          "model_module": "@jupyter-widgets/controls",
          "model_name": "FloatProgressModel",
          "model_module_version": "1.5.0",
          "state": {
            "_dom_classes": [],
            "_model_module": "@jupyter-widgets/controls",
            "_model_module_version": "1.5.0",
            "_model_name": "FloatProgressModel",
            "_view_count": null,
            "_view_module": "@jupyter-widgets/controls",
            "_view_module_version": "1.5.0",
            "_view_name": "ProgressView",
            "bar_style": "success",
            "description": "",
            "description_tooltip": null,
            "layout": "IPY_MODEL_f09178be0a53445d812249f62b43bc70",
            "max": 1,
            "min": 0,
            "orientation": "horizontal",
            "style": "IPY_MODEL_37778495c302436ea97d0eb22a05ef97",
            "value": 1
          }
        },
        "85d479ba38574964ae0af86adfed459e": {
          "model_module": "@jupyter-widgets/controls",
          "model_name": "HTMLModel",
          "model_module_version": "1.5.0",
          "state": {
            "_dom_classes": [],
            "_model_module": "@jupyter-widgets/controls",
            "_model_module_version": "1.5.0",
            "_model_name": "HTMLModel",
            "_view_count": null,
            "_view_module": "@jupyter-widgets/controls",
            "_view_module_version": "1.5.0",
            "_view_name": "HTMLView",
            "description": "",
            "description_tooltip": null,
            "layout": "IPY_MODEL_7ee828155cc8418eafa8ba845be57301",
            "placeholder": "​",
            "style": "IPY_MODEL_7cde927a47494dc1a73fd1d4a90e9db7",
            "value": " 232k/? [00:00&lt;00:00, 6.24MB/s]"
          }
        },
        "38053531c31b4f529851aaaed822cd3a": {
          "model_module": "@jupyter-widgets/base",
          "model_name": "LayoutModel",
          "model_module_version": "1.2.0",
          "state": {
            "_model_module": "@jupyter-widgets/base",
            "_model_module_version": "1.2.0",
            "_model_name": "LayoutModel",
            "_view_count": null,
            "_view_module": "@jupyter-widgets/base",
            "_view_module_version": "1.2.0",
            "_view_name": "LayoutView",
            "align_content": null,
            "align_items": null,
            "align_self": null,
            "border": null,
            "bottom": null,
            "display": null,
            "flex": null,
            "flex_flow": null,
            "grid_area": null,
            "grid_auto_columns": null,
            "grid_auto_flow": null,
            "grid_auto_rows": null,
            "grid_column": null,
            "grid_gap": null,
            "grid_row": null,
            "grid_template_areas": null,
            "grid_template_columns": null,
            "grid_template_rows": null,
            "height": null,
            "justify_content": null,
            "justify_items": null,
            "left": null,
            "margin": null,
            "max_height": null,
            "max_width": null,
            "min_height": null,
            "min_width": null,
            "object_fit": null,
            "object_position": null,
            "order": null,
            "overflow": null,
            "overflow_x": null,
            "overflow_y": null,
            "padding": null,
            "right": null,
            "top": null,
            "visibility": null,
            "width": null
          }
        },
        "71de0b450c47420bbe7794b11231c5a1": {
          "model_module": "@jupyter-widgets/base",
          "model_name": "LayoutModel",
          "model_module_version": "1.2.0",
          "state": {
            "_model_module": "@jupyter-widgets/base",
            "_model_module_version": "1.2.0",
            "_model_name": "LayoutModel",
            "_view_count": null,
            "_view_module": "@jupyter-widgets/base",
            "_view_module_version": "1.2.0",
            "_view_name": "LayoutView",
            "align_content": null,
            "align_items": null,
            "align_self": null,
            "border": null,
            "bottom": null,
            "display": null,
            "flex": null,
            "flex_flow": null,
            "grid_area": null,
            "grid_auto_columns": null,
            "grid_auto_flow": null,
            "grid_auto_rows": null,
            "grid_column": null,
            "grid_gap": null,
            "grid_row": null,
            "grid_template_areas": null,
            "grid_template_columns": null,
            "grid_template_rows": null,
            "height": null,
            "justify_content": null,
            "justify_items": null,
            "left": null,
            "margin": null,
            "max_height": null,
            "max_width": null,
            "min_height": null,
            "min_width": null,
            "object_fit": null,
            "object_position": null,
            "order": null,
            "overflow": null,
            "overflow_x": null,
            "overflow_y": null,
            "padding": null,
            "right": null,
            "top": null,
            "visibility": null,
            "width": null
          }
        },
        "d7a583e42c474d4f94cb5b3f3721cb28": {
          "model_module": "@jupyter-widgets/controls",
          "model_name": "DescriptionStyleModel",
          "model_module_version": "1.5.0",
          "state": {
            "_model_module": "@jupyter-widgets/controls",
            "_model_module_version": "1.5.0",
            "_model_name": "DescriptionStyleModel",
            "_view_count": null,
            "_view_module": "@jupyter-widgets/base",
            "_view_module_version": "1.2.0",
            "_view_name": "StyleView",
            "description_width": ""
          }
        },
        "f09178be0a53445d812249f62b43bc70": {
          "model_module": "@jupyter-widgets/base",
          "model_name": "LayoutModel",
          "model_module_version": "1.2.0",
          "state": {
            "_model_module": "@jupyter-widgets/base",
            "_model_module_version": "1.2.0",
            "_model_name": "LayoutModel",
            "_view_count": null,
            "_view_module": "@jupyter-widgets/base",
            "_view_module_version": "1.2.0",
            "_view_name": "LayoutView",
            "align_content": null,
            "align_items": null,
            "align_self": null,
            "border": null,
            "bottom": null,
            "display": null,
            "flex": null,
            "flex_flow": null,
            "grid_area": null,
            "grid_auto_columns": null,
            "grid_auto_flow": null,
            "grid_auto_rows": null,
            "grid_column": null,
            "grid_gap": null,
            "grid_row": null,
            "grid_template_areas": null,
            "grid_template_columns": null,
            "grid_template_rows": null,
            "height": null,
            "justify_content": null,
            "justify_items": null,
            "left": null,
            "margin": null,
            "max_height": null,
            "max_width": null,
            "min_height": null,
            "min_width": null,
            "object_fit": null,
            "object_position": null,
            "order": null,
            "overflow": null,
            "overflow_x": null,
            "overflow_y": null,
            "padding": null,
            "right": null,
            "top": null,
            "visibility": null,
            "width": "20px"
          }
        },
        "37778495c302436ea97d0eb22a05ef97": {
          "model_module": "@jupyter-widgets/controls",
          "model_name": "ProgressStyleModel",
          "model_module_version": "1.5.0",
          "state": {
            "_model_module": "@jupyter-widgets/controls",
            "_model_module_version": "1.5.0",
            "_model_name": "ProgressStyleModel",
            "_view_count": null,
            "_view_module": "@jupyter-widgets/base",
            "_view_module_version": "1.2.0",
            "_view_name": "StyleView",
            "bar_color": null,
            "description_width": ""
          }
        },
        "7ee828155cc8418eafa8ba845be57301": {
          "model_module": "@jupyter-widgets/base",
          "model_name": "LayoutModel",
          "model_module_version": "1.2.0",
          "state": {
            "_model_module": "@jupyter-widgets/base",
            "_model_module_version": "1.2.0",
            "_model_name": "LayoutModel",
            "_view_count": null,
            "_view_module": "@jupyter-widgets/base",
            "_view_module_version": "1.2.0",
            "_view_name": "LayoutView",
            "align_content": null,
            "align_items": null,
            "align_self": null,
            "border": null,
            "bottom": null,
            "display": null,
            "flex": null,
            "flex_flow": null,
            "grid_area": null,
            "grid_auto_columns": null,
            "grid_auto_flow": null,
            "grid_auto_rows": null,
            "grid_column": null,
            "grid_gap": null,
            "grid_row": null,
            "grid_template_areas": null,
            "grid_template_columns": null,
            "grid_template_rows": null,
            "height": null,
            "justify_content": null,
            "justify_items": null,
            "left": null,
            "margin": null,
            "max_height": null,
            "max_width": null,
            "min_height": null,
            "min_width": null,
            "object_fit": null,
            "object_position": null,
            "order": null,
            "overflow": null,
            "overflow_x": null,
            "overflow_y": null,
            "padding": null,
            "right": null,
            "top": null,
            "visibility": null,
            "width": null
          }
        },
        "7cde927a47494dc1a73fd1d4a90e9db7": {
          "model_module": "@jupyter-widgets/controls",
          "model_name": "DescriptionStyleModel",
          "model_module_version": "1.5.0",
          "state": {
            "_model_module": "@jupyter-widgets/controls",
            "_model_module_version": "1.5.0",
            "_model_name": "DescriptionStyleModel",
            "_view_count": null,
            "_view_module": "@jupyter-widgets/base",
            "_view_module_version": "1.2.0",
            "_view_name": "StyleView",
            "description_width": ""
          }
        }
      }
    }
  },
  "nbformat": 4,
  "nbformat_minor": 0
}